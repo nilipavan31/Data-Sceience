{
 "cells": [
  {
   "cell_type": "markdown",
   "metadata": {},
   "source": [
    "# Web Scraping on Flipkart site\n"
   ]
  },
  {
   "cell_type": "code",
   "execution_count": 4,
   "metadata": {},
   "outputs": [
    {
     "ename": "ModuleNotFoundError",
     "evalue": "No module named 'selenium'",
     "output_type": "error",
     "traceback": [
      "\u001b[1;31m---------------------------------------------------------------------------\u001b[0m",
      "\u001b[1;31mModuleNotFoundError\u001b[0m                       Traceback (most recent call last)",
      "\u001b[1;32m<ipython-input-4-cea777de9013>\u001b[0m in \u001b[0;36m<module>\u001b[1;34m\u001b[0m\n\u001b[1;32m----> 1\u001b[1;33m \u001b[1;32mfrom\u001b[0m \u001b[0mselenium\u001b[0m \u001b[1;32mimport\u001b[0m \u001b[0mwebdriver\u001b[0m\u001b[1;33m\u001b[0m\u001b[1;33m\u001b[0m\u001b[0m\n\u001b[0m\u001b[0;32m      2\u001b[0m \u001b[1;32mfrom\u001b[0m \u001b[0mBeautifulSoup\u001b[0m \u001b[1;32mimport\u001b[0m \u001b[0mBeautifulSoup\u001b[0m\u001b[1;33m\u001b[0m\u001b[1;33m\u001b[0m\u001b[0m\n\u001b[0;32m      3\u001b[0m \u001b[1;32mimport\u001b[0m \u001b[0mpandas\u001b[0m \u001b[1;32mas\u001b[0m \u001b[0mpd\u001b[0m\u001b[1;33m\u001b[0m\u001b[1;33m\u001b[0m\u001b[0m\n",
      "\u001b[1;31mModuleNotFoundError\u001b[0m: No module named 'selenium'"
     ]
    }
   ],
   "source": [
    "from selenium import webdriver \n",
    "from BeautifulSoup import BeautifulSoup \n",
    "import pandas as pd"
   ]
  },
  {
   "cell_type": "code",
   "execution_count": 8,
   "metadata": {},
   "outputs": [
    {
     "name": "stdout",
     "output_type": "stream",
     "text": [
      "Collecting bs4\n",
      "  Downloading https://files.pythonhosted.org/packages/10/ed/7e8b97591f6f456174139ec089c769f89a94a1a4025fe967691de971f314/bs4-0.0.1.tar.gz\n",
      "Requirement already satisfied: beautifulsoup4 in c:\\programdata\\anaconda3\\lib\\site-packages (from bs4) (4.7.1)\n",
      "Requirement already satisfied: soupsieve>=1.2 in c:\\programdata\\anaconda3\\lib\\site-packages (from beautifulsoup4->bs4) (1.8)\n",
      "Building wheels for collected packages: bs4\n",
      "  Building wheel for bs4 (setup.py): started\n",
      "  Building wheel for bs4 (setup.py): finished with status 'done'\n",
      "  Stored in directory: C:\\Users\\student\\AppData\\Local\\pip\\Cache\\wheels\\a0\\b0\\b2\\4f80b9456b87abedbc0bf2d52235414c3467d8889be38dd472\n",
      "Successfully built bs4\n",
      "Installing collected packages: bs4\n",
      "Successfully installed bs4-0.0.1\n",
      "Note: you may need to restart the kernel to use updated packages.\n"
     ]
    }
   ],
   "source": [
    "pip install bs4"
   ]
  },
  {
   "cell_type": "code",
   "execution_count": 9,
   "metadata": {},
   "outputs": [
    {
     "name": "stdout",
     "output_type": "stream",
     "text": [
      "Requirement already satisfied: pandas in c:\\programdata\\anaconda3\\lib\\site-packages (0.24.2)\n",
      "Requirement already satisfied: pytz>=2011k in c:\\programdata\\anaconda3\\lib\\site-packages (from pandas) (2018.9)\n",
      "Requirement already satisfied: python-dateutil>=2.5.0 in c:\\programdata\\anaconda3\\lib\\site-packages (from pandas) (2.8.0)\n",
      "Requirement already satisfied: numpy>=1.12.0 in c:\\programdata\\anaconda3\\lib\\site-packages (from pandas) (1.16.2)\n",
      "Requirement already satisfied: six>=1.5 in c:\\programdata\\anaconda3\\lib\\site-packages (from python-dateutil>=2.5.0->pandas) (1.12.0)\n",
      "Note: you may need to restart the kernel to use updated packages.\n"
     ]
    }
   ],
   "source": [
    "pip install pandas"
   ]
  },
  {
   "cell_type": "code",
   "execution_count": 10,
   "metadata": {},
   "outputs": [
    {
     "name": "stdout",
     "output_type": "stream",
     "text": [
      "Collecting selenium\n",
      "  Using cached https://files.pythonhosted.org/packages/88/f2/6f584262771d383ad2d21c8b01f8f4af784884f4e25c1f6450265a558a45/selenium-4.1.3-py3-none-any.whl\n",
      "Collecting trio-websocket~=0.9 (from selenium)\n",
      "  Using cached https://files.pythonhosted.org/packages/db/c5/b5e8bc1f40568a354f2a9cc296b8892605a9d2f22e725290fc33836dd2a3/trio_websocket-0.9.2-py3-none-any.whl\n",
      "Collecting urllib3[secure,socks]~=1.26 (from selenium)\n",
      "  Using cached https://files.pythonhosted.org/packages/ec/03/062e6444ce4baf1eac17a6a0ebfe36bb1ad05e1df0e20b110de59c278498/urllib3-1.26.9-py2.py3-none-any.whl\n",
      "Collecting trio~=0.17 (from selenium)\n",
      "  Using cached https://files.pythonhosted.org/packages/39/b3/c6fc163c9343e95432d60a2b681bc14d78fda70dff50210687314d94143d/trio-0.20.0-py3-none-any.whl\n",
      "Collecting async-generator>=1.10 (from trio-websocket~=0.9->selenium)\n",
      "  Using cached https://files.pythonhosted.org/packages/71/52/39d20e03abd0ac9159c162ec24b93fbcaa111e8400308f2465432495ca2b/async_generator-1.10-py3-none-any.whl\n",
      "Collecting wsproto>=0.14 (from trio-websocket~=0.9->selenium)\n",
      "  Using cached https://files.pythonhosted.org/packages/4b/6e/5f8c3e8418966f50d028e336f0c2c568f8522577183678923609d4d24924/wsproto-1.1.0-py3-none-any.whl\n",
      "Requirement already satisfied: cryptography>=1.3.4; extra == \"secure\" in c:\\programdata\\anaconda3\\lib\\site-packages (from urllib3[secure,socks]~=1.26->selenium) (2.6.1)\n",
      "Requirement already satisfied: pyOpenSSL>=0.14; extra == \"secure\" in c:\\programdata\\anaconda3\\lib\\site-packages (from urllib3[secure,socks]~=1.26->selenium) (19.0.0)\n",
      "Requirement already satisfied: idna>=2.0.0; extra == \"secure\" in c:\\programdata\\anaconda3\\lib\\site-packages (from urllib3[secure,socks]~=1.26->selenium) (2.8)\n",
      "Requirement already satisfied: certifi; extra == \"secure\" in c:\\programdata\\anaconda3\\lib\\site-packages (from urllib3[secure,socks]~=1.26->selenium) (2019.3.9)\n",
      "Requirement already satisfied: PySocks!=1.5.7,<2.0,>=1.5.6; extra == \"socks\" in c:\\programdata\\anaconda3\\lib\\site-packages (from urllib3[secure,socks]~=1.26->selenium) (1.6.8)\n",
      "Collecting cffi>=1.14; os_name == \"nt\" and implementation_name != \"pypy\" (from trio~=0.17->selenium)\n",
      "  Using cached https://files.pythonhosted.org/packages/ab/d0/4cb1bbea5a57f9284e8bc97b393197d8ac9bc4cfa9e04e16a1c23ced9f83/cffi-1.15.0-cp37-cp37m-win32.whl\n",
      "Collecting attrs>=19.2.0 (from trio~=0.17->selenium)\n",
      "  Using cached https://files.pythonhosted.org/packages/be/be/7abce643bfdf8ca01c48afa2ddf8308c2308b0c3b239a44e57d020afa0ef/attrs-21.4.0-py2.py3-none-any.whl\n",
      "Collecting sniffio (from trio~=0.17->selenium)\n",
      "  Using cached https://files.pythonhosted.org/packages/52/b0/7b2e028b63d092804b6794595871f936aafa5e9322dcaaad50ebf67445b3/sniffio-1.2.0-py3-none-any.whl\n",
      "Collecting outcome (from trio~=0.17->selenium)\n",
      "  Using cached https://files.pythonhosted.org/packages/0d/bb/f60ce97b304b1979d1fef96b6517af47b9bb026770b1f198b6e921b5edf5/outcome-1.1.0-py2.py3-none-any.whl\n",
      "Requirement already satisfied: sortedcontainers in c:\\programdata\\anaconda3\\lib\\site-packages (from trio~=0.17->selenium) (2.1.0)\n",
      "Collecting h11<1,>=0.9.0 (from wsproto>=0.14->trio-websocket~=0.9->selenium)\n",
      "  Using cached https://files.pythonhosted.org/packages/19/d2/32a15a4955be1b8114a1c570999eefd31279c7f9aa2d2a43d492a79b53c5/h11-0.13.0-py3-none-any.whl\n",
      "Requirement already satisfied: six>=1.4.1 in c:\\programdata\\anaconda3\\lib\\site-packages (from cryptography>=1.3.4; extra == \"secure\"->urllib3[secure,socks]~=1.26->selenium) (1.12.0)\n",
      "Requirement already satisfied: asn1crypto>=0.21.0 in c:\\programdata\\anaconda3\\lib\\site-packages (from cryptography>=1.3.4; extra == \"secure\"->urllib3[secure,socks]~=1.26->selenium) (0.24.0)\n",
      "Requirement already satisfied: pycparser in c:\\programdata\\anaconda3\\lib\\site-packages (from cffi>=1.14; os_name == \"nt\" and implementation_name != \"pypy\"->trio~=0.17->selenium) (2.19)\n",
      "Requirement already satisfied: typing-extensions; python_version < \"3.8\" in c:\\programdata\\anaconda3\\lib\\site-packages (from h11<1,>=0.9.0->wsproto>=0.14->trio-websocket~=0.9->selenium) (4.1.1)\n",
      "Installing collected packages: cffi, attrs, sniffio, async-generator, outcome, trio, h11, wsproto, trio-websocket, urllib3, selenium\n",
      "  Found existing installation: cffi 1.12.2\n",
      "    Uninstalling cffi-1.12.2:\n",
      "Note: you may need to restart the kernel to use updated packages.\n"
     ]
    },
    {
     "name": "stderr",
     "output_type": "stream",
     "text": [
      "requests 2.21.0 has requirement urllib3<1.25,>=1.21.1, but you'll have urllib3 1.26.9 which is incompatible.\n",
      "Could not install packages due to an EnvironmentError: [WinError 5] Access is denied: 'c:\\\\programdata\\\\anaconda3\\\\lib\\\\site-packages\\\\_cffi_backend.cp37-win32.pyd'\n",
      "Consider using the `--user` option or check the permissions.\n",
      "\n"
     ]
    }
   ],
   "source": [
    "pip install selenium"
   ]
  },
  {
   "cell_type": "code",
   "execution_count": 1,
   "metadata": {},
   "outputs": [
    {
     "ename": "ModuleNotFoundError",
     "evalue": "No module named 'selenium'",
     "output_type": "error",
     "traceback": [
      "\u001b[1;31m---------------------------------------------------------------------------\u001b[0m",
      "\u001b[1;31mModuleNotFoundError\u001b[0m                       Traceback (most recent call last)",
      "\u001b[1;32m<ipython-input-1-cea777de9013>\u001b[0m in \u001b[0;36m<module>\u001b[1;34m\u001b[0m\n\u001b[1;32m----> 1\u001b[1;33m \u001b[1;32mfrom\u001b[0m \u001b[0mselenium\u001b[0m \u001b[1;32mimport\u001b[0m \u001b[0mwebdriver\u001b[0m\u001b[1;33m\u001b[0m\u001b[1;33m\u001b[0m\u001b[0m\n\u001b[0m\u001b[0;32m      2\u001b[0m \u001b[1;32mfrom\u001b[0m \u001b[0mBeautifulSoup\u001b[0m \u001b[1;32mimport\u001b[0m \u001b[0mBeautifulSoup\u001b[0m\u001b[1;33m\u001b[0m\u001b[1;33m\u001b[0m\u001b[0m\n\u001b[0;32m      3\u001b[0m \u001b[1;32mimport\u001b[0m \u001b[0mpandas\u001b[0m \u001b[1;32mas\u001b[0m \u001b[0mpd\u001b[0m\u001b[1;33m\u001b[0m\u001b[1;33m\u001b[0m\u001b[0m\n",
      "\u001b[1;31mModuleNotFoundError\u001b[0m: No module named 'selenium'"
     ]
    }
   ],
   "source": [
    "from selenium import webdriver \n",
    "from BeautifulSoup import BeautifulSoup \n",
    "import pandas as pd"
   ]
  },
  {
   "cell_type": "code",
   "execution_count": 9,
   "metadata": {},
   "outputs": [
    {
     "name": "stdout",
     "output_type": "stream",
     "text": [
      "<Response [200]>\n",
      "[<p>LIMESTONE All Black Day &amp; Date Functioning Long Life Black Plated Chain HMTS Quartz Analog Watch  - For Men</p>, <p class=\"_2sc7ZR _2V5EHH _1QgsS5\">Flipkart Customer</p>, <p class=\"_2sc7ZR\">Dec, 2020</p>, <p class=\"_2mcZGG\" id=\"review-55c7ac36-0c65-4e9f-9cf4-8d868a2371bc\"><span>Certified Buyer</span><span>, Shillong</span></p>, <p class=\"_2sc7ZR _2V5EHH _1QgsS5\">Flipkart Kunal bodhare</p>, <p class=\"_2sc7ZR\">Mar, 2020</p>, <p class=\"_2mcZGG\" id=\"review-b734c661-b82c-4d3b-ab6c-76ed6e28f2ab\"><span>Certified Buyer</span><span>, Dhule</span></p>, <p class=\"_2sc7ZR _2V5EHH _1QgsS5\">Sukriti Basudevan </p>, <p class=\"_2sc7ZR\">Apr, 2021</p>, <p class=\"_2mcZGG\" id=\"review-48f635ec-c32b-453a-89bc-3f4e0eda09a9\"><span>Certified Buyer</span><span>, Deoghar</span></p>, <p>Flipkart Internet Private Limited, </p>, <p> Buildings Alyssa, Begonia &amp; </p>, <p> Clove Embassy Tech Village, </p>, <p> Outer Ring Road, Devarabeesanahalli Village, </p>, <p> Bengaluru, 560103, </p>, <p> Karnataka, India</p>, <p>Flipkart Internet Private Limited, </p>, <p> Buildings Alyssa, Begonia &amp; </p>, <p> Clove Embassy Tech Village, </p>, <p> Outer Ring Road, Devarabeesanahalli Village, </p>, <p> Bengaluru, 560103, </p>, <p> Karnataka, India </p>, <p> CIN : U51109KA2012PTC066107 </p>, <p> Telephone: <a href=\"tel:18002029898\">1800 202 9898</a></p>]\n"
     ]
    }
   ],
   "source": [
    "import requests\n",
    "from bs4 import BeautifulSoup\n",
    "\n",
    "\n",
    "# Making a GET request\n",
    "r = requests.get('https://www.flipkart.com/limestone-all-black-day-date-functioning-long-life-plated-chain-hmts-quartz-analog-watch-men/p/itmd42de5f7020cd?pid=WATGCZVF5BVHJEQE&lid=LSTWATGCZVF5BVHJEQEPUSMYG&marketplace=FLIPKART&store=r18&srno=b_1_2&otracker=hp_omu_Deals%2Bof%2Bthe%2BDay_3_3.dealCard.OMU_L421AQ5ASUHC_3&otracker1=hp_omu_SECTIONED_manualRanking_neo%2Fmerchandising_Deals%2Bof%2Bthe%2BDay_NA_dealCard_cc_3_NA_view-all_3&fm=neo%2Fmerchandising&iid=en_g5wEIs7pRtnfgVchdLCm3RTVgP3R5f5sL0eWXWX%2FVanbLsuoS4rm2aUkpHsL%2BxiiitSd3gCd%2FkVarpDlUKD3Uw%3D%3D&ppt=browse&ppn=browse&ssid=3zr8yy63400000001651209857729/')\n",
    "\n",
    "# check status code for response received\n",
    "# success code - 200\n",
    "print(r)\n",
    "\n",
    "# Parsing the HTML\n",
    "soup = BeautifulSoup(r.content, 'html.parser')\n",
    "\n",
    "\n",
    "s = soup.find('div', id='container')\n",
    "content = s.find_all('p')\n",
    " \n",
    "print(content)"
   ]
  },
  {
   "cell_type": "code",
   "execution_count": 17,
   "metadata": {},
   "outputs": [
    {
     "name": "stdout",
     "output_type": "stream",
     "text": [
      "                                 Phone Name Rating    Price\n",
      "0            POCO M3 Pro 5G (Yellow, 64 GB)    4.3  ₹14,549\n",
      "1              POCO C31 (Royal Blue, 64 GB)    4.4   ₹9,499\n",
      "2           realme 8 (Cyber Silver, 128 GB)    4.4  ₹17,099\n",
      "3            realme 8 (Cyber Black, 128 GB)    4.4  ₹16,149\n",
      "4            realme 8 (Cyber Black, 128 GB)    4.4  ₹17,099\n",
      "5        POCO M3 Pro 5G (Cool Blue, 128 GB)    4.2  ₹12,499\n",
      "6   SAMSUNG Galaxy F22 (Denim Black, 64 GB)    4.3  ₹11,999\n",
      "7    SAMSUNG Galaxy F22 (Denim Blue, 64 GB)    4.3  ₹11,999\n",
      "8       POCO M3 Pro 5G (Power Black, 64 GB)    4.3  ₹14,549\n",
      "9           realme 8 (Cyber Silver, 128 GB)    4.4  ₹18,099\n",
      "10          realme 8 (Cyber Silver, 128 GB)    4.4  ₹16,149\n",
      "11           realme 8 (Cyber Black, 128 GB)    4.4  ₹18,099\n",
      "12          realme C21Y (Cross Blue, 32 GB)    4.6   ₹9,599\n",
      "13          realme C21Y (Cross Blue, 64 GB)    4.5  ₹10,599\n",
      "14         realme C21Y (Cross Black, 64 GB)    4.5  ₹10,599\n",
      "15         realme C21Y (Cross Black, 32 GB)    4.6   ₹9,599\n",
      "16        POCO M3 Pro 5G (Cool Blue, 64 GB)    4.3  ₹14,549\n",
      "17       realme C11 2021 (Cool Blue, 32 GB)    4.4   ₹7,499\n",
      "18       realme C11 2021 (Cool Grey, 32 GB)    4.4   ₹7,499\n",
      "19     POCO M3 Pro 5G (Power Black, 128 GB)    4.2  ₹12,499\n",
      "20            realme 9i (Prism Blue, 64 GB)    4.5  ₹12,999\n",
      "21           realme 9i (Prism Black, 64 GB)    4.5  ₹12,999\n",
      "22           realme 9i (Prism Blue, 128 GB)    4.3  ₹15,999\n",
      "23          realme 9i (Prism Black, 128 GB)    4.5  ₹14,999\n"
     ]
    }
   ],
   "source": [
    "\n",
    "import requests\n",
    "from bs4 import BeautifulSoup\n",
    "import pandas as pd\n",
    "\n",
    "\n",
    "PhoneName = []\n",
    "PhoneRating = []\n",
    "PhoneSpecs = []\n",
    "Price = []\n",
    "\n",
    "url = \"https://www.flipkart.com/search?q=mobile%20phones&otracker=search&otracker1=search&marketplace=FLIPKART&as-show=on&as=off\"\n",
    "request = requests.get(url).content\n",
    "soup = BeautifulSoup(request, \"html.parser\")\n",
    "data = soup.findAll('a', href=True, attrs={'class': '_1fQZEK'})\n",
    "\n",
    "for i in data:\n",
    "    pName = i.find('div', attrs={'class': '_4rR01T'})\n",
    "    pRating = i.find('div', attrs={'class': '_3LWZlK'})\n",
    "    \n",
    "    pPrice = i.find('div', attrs={'class': '_30jeq3 _1_WHN1'})\n",
    "\n",
    "    PhoneName.append(pName.text)\n",
    "    PhoneRating.append(pRating.text)\n",
    "    \n",
    "    Price.append(pPrice.text)\n",
    "\n",
    "df = pd.DataFrame({'Phone Name': PhoneName, 'Rating': PhoneRating, 'Price': Price})\n",
    "print(df)\n",
    "df.to_csv('asu.csv', index=False, encoding='utf-8')"
   ]
  }
 ],
 "metadata": {
  "kernelspec": {
   "display_name": "Python 3 (ipykernel)",
   "language": "python",
   "name": "python3"
  },
  "language_info": {
   "codemirror_mode": {
    "name": "ipython",
    "version": 3
   },
   "file_extension": ".py",
   "mimetype": "text/x-python",
   "name": "python",
   "nbconvert_exporter": "python",
   "pygments_lexer": "ipython3",
   "version": "3.9.7"
  }
 },
 "nbformat": 4,
 "nbformat_minor": 2
}
