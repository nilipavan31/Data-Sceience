{
 "cells": [
  {
   "cell_type": "code",
   "execution_count": 1,
   "id": "91c588b0",
   "metadata": {},
   "outputs": [
    {
     "name": "stdout",
     "output_type": "stream",
     "text": [
      "Collecting tweepy\n",
      "  Downloading tweepy-4.9.0-py3-none-any.whl (77 kB)\n",
      "Requirement already satisfied: oauthlib<4,>=3.2.0 in c:\\users\\samarth\\anaconda3\\lib\\site-packages (from tweepy) (3.2.0)\n",
      "Requirement already satisfied: requests-oauthlib<2,>=1.2.0 in c:\\users\\samarth\\anaconda3\\lib\\site-packages (from tweepy) (1.3.1)\n",
      "Collecting requests<3,>=2.27.0\n",
      "  Downloading requests-2.27.1-py2.py3-none-any.whl (63 kB)\n",
      "Requirement already satisfied: charset-normalizer~=2.0.0 in c:\\users\\samarth\\anaconda3\\lib\\site-packages (from requests<3,>=2.27.0->tweepy) (2.0.4)\n",
      "Requirement already satisfied: idna<4,>=2.5 in c:\\users\\samarth\\anaconda3\\lib\\site-packages (from requests<3,>=2.27.0->tweepy) (3.2)\n",
      "Requirement already satisfied: certifi>=2017.4.17 in c:\\users\\samarth\\anaconda3\\lib\\site-packages (from requests<3,>=2.27.0->tweepy) (2021.10.8)\n",
      "Requirement already satisfied: urllib3<1.27,>=1.21.1 in c:\\users\\samarth\\anaconda3\\lib\\site-packages (from requests<3,>=2.27.0->tweepy) (1.26.7)\n",
      "Installing collected packages: requests, tweepy\n",
      "  Attempting uninstall: requests\n",
      "    Found existing installation: requests 2.26.0\n",
      "    Uninstalling requests-2.26.0:\n",
      "      Successfully uninstalled requests-2.26.0\n",
      "Successfully installed requests-2.27.1 tweepy-4.9.0\n",
      "Note: you may need to restart the kernel to use updated packages.\n"
     ]
    },
    {
     "name": "stderr",
     "output_type": "stream",
     "text": [
      "ERROR: pip's dependency resolver does not currently take into account all the packages that are installed. This behaviour is the source of the following dependency conflicts.\n",
      "conda-repo-cli 1.0.4 requires pathlib, which is not installed.\n",
      "anaconda-project 0.10.1 requires ruamel-yaml, which is not installed.\n"
     ]
    }
   ],
   "source": [
    "pip install tweepy"
   ]
  },
  {
   "cell_type": "code",
   "execution_count": 2,
   "id": "bafa5cfa",
   "metadata": {},
   "outputs": [
    {
     "name": "stdout",
     "output_type": "stream",
     "text": [
      "tweets are added to csv file\n"
     ]
    }
   ],
   "source": [
    "from tweepy import OAuthHandler\n",
    "import tweepy as tw\n",
    "import pandas as pd\n",
    "from pandas import ExcelWriter\n",
    "api_key= 'qdWcSneKdD9aBIK0LpEEqgpxn'\n",
    "api_secret= 'f8TAjG8VJxDu9eTh3n0D1ZQC7fUcmYpsNnOxubVycYypg4YUDO'\n",
    "access_token= '998213423253995521-HyNm0yn6N4Q5yEPo0KzryP5hOl7Qbxw'\n",
    "access_token_secret= 'ufelMpqKVbRuA8xtFqnsthUbTbsdKHdtiVCXNelUwdbU4'\n",
    "auth = tw.OAuthHandler(api_key, api_secret)\n",
    "auth.set_access_token(access_token, access_token_secret)\n",
    "api = tw.API(auth, wait_on_rate_limit=True)\n",
    "\n",
    "tweets = []\n",
    "\n",
    "count = 1\n",
    "\n",
    "\"\"\"Twitter will automatically sample the last 7 days of data. Depending on how many total tweets there are with the specific hashtag, keyword, handle, or key phrase that you are looking for, you can set the date back further by adding since= as one of the parameters. You can also manually add in the number of tweets you want to get back in the items() section.\"\"\"\n",
    "\n",
    "for tweet in tw.Cursor(api.search_tweets, q=\"@NarendraModi\", count=10).items(10):\n",
    "    count += 1\n",
    "    try: \n",
    "        data = [ tweet.created_at, tweet.id, tweet.text, tweet.user._json['screen_name'], tweet.user._json['name'],  tweet.user._json['created_at'],tweet.entities['urls']]\n",
    "        data = tuple(data)\n",
    "        tweets.append(data)\n",
    "\n",
    "    except tw.TweepError as e:\n",
    "        print(e.reason)\n",
    "        continue\n",
    "\n",
    "    except StopIteration:\n",
    "        break\n",
    "\n",
    "df = pd.DataFrame(tweets, columns = ['created_at','tweet_id', 'tweet_text', 'screen_name', 'name','account_creation_date','urls'])\n",
    "\n",
    "\"\"\"Add the path to the folder you want to save the CSV file in as well as what you want the CSV file to be named inside the single quotations\"\"\"\n",
    "df.to_csv(path_or_buf = 'Tweets.csv', index=True)\n",
    "print(\"tweets are added to csv file\")"
   ]
  },
  {
   "cell_type": "code",
   "execution_count": null,
   "id": "e45d14fa",
   "metadata": {},
   "outputs": [],
   "source": []
  }
 ],
 "metadata": {
  "kernelspec": {
   "display_name": "Python 3 (ipykernel)",
   "language": "python",
   "name": "python3"
  },
  "language_info": {
   "codemirror_mode": {
    "name": "ipython",
    "version": 3
   },
   "file_extension": ".py",
   "mimetype": "text/x-python",
   "name": "python",
   "nbconvert_exporter": "python",
   "pygments_lexer": "ipython3",
   "version": "3.9.7"
  }
 },
 "nbformat": 4,
 "nbformat_minor": 5
}
